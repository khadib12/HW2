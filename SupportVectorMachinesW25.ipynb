{
  "nbformat": 4,
  "nbformat_minor": 0,
  "metadata": {
    "anaconda-cloud": {},
    "kernelspec": {
      "display_name": "Python [Root]",
      "language": "python",
      "name": "Python [Root]"
    },
    "language_info": {
      "codemirror_mode": {
        "name": "ipython",
        "version": 3
      },
      "file_extension": ".py",
      "mimetype": "text/x-python",
      "name": "python",
      "nbconvert_exporter": "python",
      "pygments_lexer": "ipython3",
      "version": "3.5.5"
    },
    "colab": {
      "provenance": [],
      "include_colab_link": true
    }
  },
  "cells": [
    {
      "cell_type": "markdown",
      "metadata": {
        "id": "view-in-github",
        "colab_type": "text"
      },
      "source": [
        "<a href=\"https://colab.research.google.com/github/khadib12/HW2/blob/main/SupportVectorMachinesW25.ipynb\" target=\"_parent\"><img src=\"https://colab.research.google.com/assets/colab-badge.svg\" alt=\"Open In Colab\"/></a>"
      ]
    },
    {
      "cell_type": "code",
      "metadata": {
        "id": "Oznk6SGeuBNx",
        "colab": {
          "base_uri": "https://localhost:8080/"
        },
        "outputId": "2bdac363-b861-4cf3-f150-4c4809b04ba6"
      },
      "source": [
        "from google.colab import drive\n",
        "drive.mount('/content/drive')"
      ],
      "execution_count": 20,
      "outputs": [
        {
          "output_type": "stream",
          "name": "stdout",
          "text": [
            "Drive already mounted at /content/drive; to attempt to forcibly remount, call drive.mount(\"/content/drive\", force_remount=True).\n"
          ]
        }
      ]
    },
    {
      "cell_type": "code",
      "metadata": {
        "id": "L978BR5uq3XV"
      },
      "source": [
        "from sklearn import svm\n",
        "import pandas as pd\n",
        "import numpy as np\n",
        "\n",
        "C=1e+03 #1000\n",
        "gamma=1e-05 #0.0001\n",
        "clf = svm.SVC(C=C, gamma=gamma, kernel='rbf', probability=True)"
      ],
      "execution_count": 21,
      "outputs": []
    },
    {
      "cell_type": "code",
      "metadata": {
        "id": "r3avzGW5q3Xd",
        "colab": {
          "base_uri": "https://localhost:8080/"
        },
        "outputId": "1d491c87-0eab-4b47-de77-51feaddc77cc"
      },
      "source": [
        "import pandas as pd\n",
        "\n",
        "# Verify the path first by checking the folder in your Google Drive\n",
        "train = pd.read_csv('/content/drive/My Drive/DATA/diabetes_train.csv')  # Ensure this path is correct\n",
        "test = pd.read_csv('/content/drive/My Drive/DATA/diabetes_test.csv')  # Ensure this path is correct\n",
        "\n",
        "# Show the column names (first 8 columns)\n",
        "print(train.columns[:8])\n"
      ],
      "execution_count": 26,
      "outputs": [
        {
          "output_type": "stream",
          "name": "stdout",
          "text": [
            "Index(['preg', 'plas', 'pres', 'skin', 'insu', 'mass', 'pedi', 'age'], dtype='object')\n"
          ]
        }
      ]
    },
    {
      "cell_type": "code",
      "metadata": {
        "id": "1Sb3mkBSq3Xi",
        "colab": {
          "base_uri": "https://localhost:8080/"
        },
        "outputId": "310c78ed-59e4-42b1-fdaf-e1cfc7d64d3b"
      },
      "source": [
        "clf = clf.fit(train.iloc[:,0:8], train.iloc[:,8]) #first paramater data, second labels\n",
        "y_pred = clf.predict(test.iloc[:,0:8]) #doing prediction on unknown test set\n",
        "y_pred"
      ],
      "execution_count": 27,
      "outputs": [
        {
          "output_type": "execute_result",
          "data": {
            "text/plain": [
              "array(['tested_negative', 'tested_positive', 'tested_negative',\n",
              "       'tested_positive', 'tested_negative', 'tested_positive',\n",
              "       'tested_negative', 'tested_negative', 'tested_negative',\n",
              "       'tested_negative'], dtype=object)"
            ]
          },
          "metadata": {},
          "execution_count": 27
        }
      ]
    },
    {
      "cell_type": "code",
      "metadata": {
        "id": "zE4DKCgKq3Xm",
        "colab": {
          "base_uri": "https://localhost:8080/"
        },
        "outputId": "f7368fca-48d4-4789-f849-e72fdfc8b90d"
      },
      "source": [
        "from sklearn.metrics import confusion_matrix  # For evaluating model performance\n",
        "\n",
        "# Ensure that the model is trained before making predictions\n",
        "clf = clf.fit(train.iloc[:, 0:8], train.iloc[:, 8])  # Train the model on the training set\n",
        "\n",
        "# Now, predict the labels for the test set\n",
        "y_pred = clf.predict(test.iloc[:, 0:8])\n",
        "\n",
        "# Get the true labels from the test set\n",
        "y_true = test.iloc[:, 8]\n",
        "\n",
        "# Generate the confusion matrix\n",
        "tn, fp, fn, tp = confusion_matrix(y_true, y_pred).ravel()\n",
        "\n",
        "# Output the confusion matrix components\n",
        "print(f\"True Negative (TN): {tn}\")\n",
        "print(f\"False Positive (FP): {fp}\")\n",
        "print(f\"False Negative (FN): {fn}\")\n",
        "print(f\"True Positive (TP): {tp}\")\n",
        "\n",
        "# Calculate the accuracy\n",
        "accuracy = (tp + tn) / (tp + tn + fp + fn)\n",
        "print(f\"Accuracy: {accuracy:.4f}\")\n"
      ],
      "execution_count": 28,
      "outputs": [
        {
          "output_type": "stream",
          "name": "stdout",
          "text": [
            "True Negative (TN): 6\n",
            "False Positive (FP): 1\n",
            "False Negative (FN): 1\n",
            "True Positive (TP): 2\n",
            "Accuracy: 0.8000\n"
          ]
        }
      ]
    },
    {
      "cell_type": "code",
      "source": [
        "# Hyperparameter tuning: Try different values for C and gamma\n",
        "C_values = [1e+03, 1e+04, 1e+05]\n",
        "gamma_values = [1e-05, 1e-06, 1e-07]\n",
        "\n",
        "# Loop through each combination of C and gamma\n",
        "best_accuracy = 0\n",
        "best_params = {}\n",
        "for c in C_values:\n",
        "    for g in gamma_values:\n",
        "        # Train model with current hyperparameters\n",
        "        clf = svm.SVC(C=c, gamma=g, kernel='rbf', probability=True)\n",
        "        clf.fit(train.iloc[:, 0:8], train.iloc[:, 8])\n",
        "\n",
        "        # Predict test set\n",
        "        y_pred = clf.predict(test.iloc[:, 0:8])\n",
        "\n",
        "        # Evaluate performance using confusion matrix\n",
        "        tn, fp, fn, tp = confusion_matrix(y_true, y_pred).ravel()\n",
        "        accuracy = (tp + tn) / (tp + tn + fp + fn)\n",
        "\n",
        "        print(f\"C: {c}, Gamma: {g}, Accuracy: {accuracy:.4f}\")\n",
        "\n",
        "        # Track the best accuracy and corresponding parameters\n",
        "        if accuracy > best_accuracy:\n",
        "            best_accuracy = accuracy\n",
        "            best_params = {'C': c, 'gamma': g}\n",
        "\n",
        "# Output the best parameters and accuracy\n",
        "print(f\"Best Parameters: {best_params}\")\n"
      ],
      "metadata": {
        "colab": {
          "base_uri": "https://localhost:8080/"
        },
        "id": "ClFnuh8aQBFz",
        "outputId": "9369aa78-65cd-4b50-ccb4-c6479a684b9f"
      },
      "execution_count": 35,
      "outputs": [
        {
          "output_type": "stream",
          "name": "stdout",
          "text": [
            "C: 1000.0, Gamma: 1e-05, Accuracy: 0.8000\n",
            "C: 1000.0, Gamma: 1e-06, Accuracy: 0.9000\n",
            "C: 1000.0, Gamma: 1e-07, Accuracy: 0.9000\n",
            "C: 10000.0, Gamma: 1e-05, Accuracy: 0.8000\n",
            "C: 10000.0, Gamma: 1e-06, Accuracy: 0.8000\n",
            "C: 10000.0, Gamma: 1e-07, Accuracy: 0.9000\n",
            "C: 100000.0, Gamma: 1e-05, Accuracy: 0.8000\n",
            "C: 100000.0, Gamma: 1e-06, Accuracy: 0.9000\n",
            "C: 100000.0, Gamma: 1e-07, Accuracy: 0.9000\n",
            "Best Parameters: {'C': 1000.0, 'gamma': 1e-06}\n"
          ]
        }
      ]
    },
    {
      "cell_type": "code",
      "metadata": {
        "id": "yTN-i2clq3Xq",
        "colab": {
          "base_uri": "https://localhost:8080/"
        },
        "outputId": "e45a4394-2223-409c-d9f0-063077d9f1b6"
      },
      "source": [
        "from sklearn.metrics import confusion_matrix\n",
        "\n",
        "# Define the hyperparameter ranges\n",
        "C_values = [1e+03, 1e+04, 1e+05]\n",
        "gamma_values = [1e-05, 1e-06, 1e-07]\n",
        "\n",
        "# Initialize variables to store the best accuracy and parameters\n",
        "best_accuracy = 0\n",
        "best_params = {}\n",
        "\n",
        "# Loop through different combinations of C and gamma\n",
        "for c in C_values:\n",
        "    for g in gamma_values:\n",
        "        # Train the model with the current combination of C and gamma\n",
        "        clf = svm.SVC(C=c, gamma=g, kernel='rbf', probability=True)\n",
        "        clf.fit(train.iloc[:, 0:8], train.iloc[:, 8])  # Train on training data\n",
        "\n",
        "        # Make predictions on the test set\n",
        "        y_pred = clf.predict(test.iloc[:, 0:8])\n",
        "\n",
        "        # Get true labels for the test set\n",
        "        y_true = test.iloc[:, 8]\n",
        "\n",
        "        # Evaluate the model performance using confusion matrix\n",
        "        tn, fp, fn, tp = confusion_matrix(y_true, y_pred).ravel()\n",
        "        accuracy = (tp + tn) / (tp + tn + fp + fn)\n",
        "\n",
        "        # Print the accuracy for the current combination of C and gamma\n",
        "        print(f\"C: {c}, Gamma: {g}, Accuracy: {accuracy:.4f}\")\n",
        "\n",
        "        # Track the best parameters\n",
        "        if accuracy > best_accuracy:\n",
        "            best_accuracy = accuracy\n",
        "            best_params = {'C': c, 'gamma': g}\n",
        "\n",
        "# Output the best parameters found\n",
        "print(f\"Best Parameters: {best_params}\")\n",
        "\n"
      ],
      "execution_count": 38,
      "outputs": [
        {
          "output_type": "stream",
          "name": "stdout",
          "text": [
            "C: 1000.0, Gamma: 1e-05, Accuracy: 0.8000\n",
            "C: 1000.0, Gamma: 1e-06, Accuracy: 0.9000\n",
            "C: 1000.0, Gamma: 1e-07, Accuracy: 0.9000\n",
            "C: 10000.0, Gamma: 1e-05, Accuracy: 0.8000\n",
            "C: 10000.0, Gamma: 1e-06, Accuracy: 0.8000\n",
            "C: 10000.0, Gamma: 1e-07, Accuracy: 0.9000\n",
            "C: 100000.0, Gamma: 1e-05, Accuracy: 0.8000\n",
            "C: 100000.0, Gamma: 1e-06, Accuracy: 0.9000\n",
            "C: 100000.0, Gamma: 1e-07, Accuracy: 0.9000\n",
            "Best Parameters: {'C': 1000.0, 'gamma': 1e-06}\n"
          ]
        }
      ]
    },
    {
      "cell_type": "code",
      "metadata": {
        "id": "Y_MA7nzjq3Xt",
        "outputId": "ff3a9d48-56d4-48c3-874f-9191f490c92a",
        "colab": {
          "base_uri": "https://localhost:8080/",
          "height": 544
        }
      },
      "source": [
        "from sklearn.metrics import roc_curve, auc\n",
        "import matplotlib.pyplot as plt\n",
        "\n",
        "# Convert 'tested_negative' and 'tested_positive' to 0 and 1\n",
        "y_true = test.iloc[:, 8].map({'tested_negative': 0, 'tested_positive': 1})\n",
        "\n",
        "# Ensure the model is trained before calculating the ROC curve\n",
        "# Use the best parameters from hyperparameter tuning (make sure best_params is already defined)\n",
        "clf = svm.SVC(C=best_params['C'], gamma=best_params['gamma'], kernel='rbf', probability=True)\n",
        "clf.fit(train.iloc[:, 0:8], train.iloc[:, 8])\n",
        "\n",
        "# Predict probabilities for the test set (probabilities for both classes)\n",
        "scores = clf.predict_proba(test.iloc[:, 0:8])\n",
        "\n",
        "# Calculate the ROC curve using true labels and predicted probabilities for the positive class (scores[:, 1])\n",
        "fpr, tpr, thresholds = roc_curve(y_true, scores[:, 1])\n",
        "\n",
        "# Calculate the AUC (Area Under the Curve)\n",
        "roc_auc = auc(fpr, tpr)\n",
        "\n",
        "# Print ROC curve data\n",
        "print(f\"False Positive Rate: {fpr}\")\n",
        "print(f\"True Positive Rate: {tpr}\")\n",
        "print(f\"Thresholds: {thresholds}\")\n",
        "print(f\"AUC: {roc_auc:.4f}\")\n",
        "\n",
        "# Plot the ROC curve\n",
        "plt.figure()\n",
        "lw = 2\n",
        "plt.plot(fpr, tpr, color='darkorange', lw=lw, label='ROC curve (area = %0.2f)' % roc_auc)\n",
        "plt.plot([0, 1], [0, 1], color='navy', lw=lw, linestyle='--')\n",
        "plt.xlim([0.0, 1.0])\n",
        "plt.ylim([0.0, 1.05])\n",
        "plt.xlabel('False Positive Rate')\n",
        "plt.ylabel('True Positive Rate')\n",
        "plt.title('Receiver Operating Characteristic')\n",
        "plt.legend(loc=\"lower right\")\n",
        "plt.show()\n",
        "\n"
      ],
      "execution_count": 42,
      "outputs": [
        {
          "output_type": "stream",
          "name": "stdout",
          "text": [
            "False Positive Rate: [0.         0.         0.         0.28571429 0.28571429 1.        ]\n",
            "True Positive Rate: [0.         0.33333333 0.66666667 0.66666667 1.         1.        ]\n",
            "Thresholds: [       inf 0.88021161 0.87546022 0.33837841 0.2822256  0.11044333]\n",
            "AUC: 0.9048\n"
          ]
        },
        {
          "output_type": "display_data",
          "data": {
            "text/plain": [
              "<Figure size 640x480 with 1 Axes>"
            ],
            "image/png": "[encoded data removed]"
          },
          "metadata": {}
        }
      ]
    }
  ]
}